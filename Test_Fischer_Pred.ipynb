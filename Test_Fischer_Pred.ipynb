{
 "cells": [
  {
   "cell_type": "code",
   "execution_count": 1,
   "metadata": {},
   "outputs": [],
   "source": [
    "import numpy as np\n",
    "from sklearn import datasets\n",
    "import sys\n",
    "sys.path.append('..')\n",
    "from sklearn.decomposition import PCA\n",
    "from PCA_FDA.FDA_Edo import FisherDiscriminantAnalysis\n",
    "import matplotlib\n",
    "import matplotlib.pyplot as plt\n",
    "import pandas as pd\n",
    "from IPython.display import display\n",
    "\n",
    "from sklearn.model_selection import train_test_split\n",
    "\n",
    "from sklearn.metrics import f1_score, precision_score, recall_score, confusion_matrix\n",
    "\n",
    "\n",
    "from imblearn.over_sampling import RandomOverSampler "
   ]
  },
  {
   "cell_type": "markdown",
   "metadata": {},
   "source": [
    "### IMPORTAZIONE DEL DATASET\n",
    " Importiamo il dataset e lo dividiamo nelle componenti rilevanti per l'analisi"
   ]
  },
  {
   "cell_type": "code",
   "execution_count": 2,
   "metadata": {},
   "outputs": [],
   "source": [
    "lfw_people = datasets.fetch_lfw_people(min_faces_per_person=100, resize=0.45)\n",
    "face_data = lfw_people['data']\n",
    "face_images = lfw_people['images']\n",
    "face_tnames = lfw_people['target_names']\n",
    "face_targets = lfw_people['target']"
   ]
  },
  {
   "cell_type": "markdown",
   "metadata": {},
   "source": [
    "### DIVISIONE DEL DATASET\n",
    "Divisione del dataset nella parte di Training e nella componente di Testing"
   ]
  },
  {
   "cell_type": "code",
   "execution_count": 3,
   "metadata": {},
   "outputs": [
    {
     "name": "stdout",
     "output_type": "stream",
     "text": [
      "random_seed =  19990704\n"
     ]
    }
   ],
   "source": [
    "# Creare gli X_trainval, y_trainval, X_test, y_test\n",
    "#5890\n",
    "random_state = 19990704 #np.random.randint(0, 100000)\n",
    "print('random_seed = ', random_state)\n",
    "test_p = 0.4\n",
    "#val_p = 0.25  # Percentuale di dati di X_trainval da usare come validation set\n",
    "\n",
    "X_trainval, X_test, y_trainval, y_test, _, img_test = train_test_split(face_data, face_targets, face_images, test_size=test_p, random_state=random_state, shuffle=True)"
   ]
  },
  {
   "cell_type": "markdown",
   "metadata": {},
   "source": [
    "## OVERSAMPLING\n"
   ]
  },
  {
   "cell_type": "code",
   "execution_count": 4,
   "metadata": {},
   "outputs": [],
   "source": [
    "ros = RandomOverSampler(random_state= random_state)\n",
    "#X_trainval, y_trainval = ros.fit_resample(X_trainval, y_trainval)"
   ]
  },
  {
   "cell_type": "markdown",
   "metadata": {},
   "source": [
    "# RIDUZIONE DELLA DIMENSIONALITÀ\n",
    "## PCA\n",
    "Usiamo la PCA per evitare che l'analisi di fischer abbia problemi di singolarità della matrice da invertire\n",
    "\n",
    "## FDA\n",
    "Usiamo la FDA per ridurre significativamente la dimensionalità del problema e come metodo di predizione"
   ]
  },
  {
   "cell_type": "code",
   "execution_count": 5,
   "metadata": {},
   "outputs": [],
   "source": [
    "#PCA\n",
    "n_components_pca = X_trainval.shape[0] - face_tnames.shape[0]\n",
    "pca = PCA(n_components= n_components_pca)\n",
    "pca_data = pca.fit_transform(X_trainval)\n",
    "\n",
    "#FDA\n",
    "n_components_fda = face_tnames.shape[0]-1\n",
    "fda = FisherDiscriminantAnalysis(n_components_fda)\n",
    "fda.fit(pca_data, y_trainval)\n",
    "fda_data = fda.transform(pca_data)"
   ]
  },
  {
   "cell_type": "code",
   "execution_count": 6,
   "metadata": {},
   "outputs": [
    {
     "name": "stdout",
     "output_type": "stream",
     "text": [
      "Dimensionalità Dati:  2352\n",
      "Dimensionalità PCA:  679\n",
      "Dimensionalità FDA:  4\n"
     ]
    }
   ],
   "source": [
    "print('Dimensionalità Dati: ' , X_trainval.shape[1])\n",
    "print('Dimensionalità PCA: ' , n_components_pca)\n",
    "print('Dimensionalità FDA: ' , n_components_fda)"
   ]
  },
  {
   "cell_type": "markdown",
   "metadata": {},
   "source": [
    "## VALUTAZIONE DEL TEST SET\n",
    "\n",
    "Utiliziamo il metodo dell'FDA, anche se in realtà esso è un metodoto di riduzione della dimensionalità che modifica la geometria dello spazio, per determinare a qualche classe il dato appartiene"
   ]
  },
  {
   "cell_type": "code",
   "execution_count": 7,
   "metadata": {},
   "outputs": [],
   "source": [
    "#Valutazione del dataset usato per il training\n",
    "y_pred_trainval = fda.evaluate(pca_data)\n",
    "\n",
    "#valutazine del dataset nuovo\n",
    "\n",
    "X_test = pca.transform(X_test)\n",
    "y_pred = fda.evaluate(X_test)"
   ]
  },
  {
   "cell_type": "code",
   "execution_count": 8,
   "metadata": {},
   "outputs": [
    {
     "name": "stdout",
     "output_type": "stream",
     "text": [
      "(684,) (684,) (684, 679)\n"
     ]
    }
   ],
   "source": [
    "print(y_trainval.shape, y_pred_trainval.shape, pca_data.shape)"
   ]
  },
  {
   "cell_type": "code",
   "execution_count": 9,
   "metadata": {},
   "outputs": [
    {
     "data": {
      "text/html": [
       "<div>\n",
       "<style scoped>\n",
       "    .dataframe tbody tr th:only-of-type {\n",
       "        vertical-align: middle;\n",
       "    }\n",
       "\n",
       "    .dataframe tbody tr th {\n",
       "        vertical-align: top;\n",
       "    }\n",
       "\n",
       "    .dataframe thead th {\n",
       "        text-align: right;\n",
       "    }\n",
       "</style>\n",
       "<table border=\"1\" class=\"dataframe\">\n",
       "  <thead>\n",
       "    <tr style=\"text-align: right;\">\n",
       "      <th></th>\n",
       "      <th>Precision</th>\n",
       "      <th>Recall</th>\n",
       "      <th>F1</th>\n",
       "    </tr>\n",
       "  </thead>\n",
       "  <tbody>\n",
       "    <tr>\n",
       "      <th>train. + val.</th>\n",
       "      <td>1.000000</td>\n",
       "      <td>1.000000</td>\n",
       "      <td>1.000000</td>\n",
       "    </tr>\n",
       "    <tr>\n",
       "      <th>test</th>\n",
       "      <td>0.766413</td>\n",
       "      <td>0.767544</td>\n",
       "      <td>0.763882</td>\n",
       "    </tr>\n",
       "  </tbody>\n",
       "</table>\n",
       "</div>"
      ],
      "text/plain": [
       "               Precision    Recall        F1\n",
       "train. + val.   1.000000  1.000000  1.000000\n",
       "test            0.766413  0.767544  0.763882"
      ]
     },
     "metadata": {},
     "output_type": "display_data"
    }
   ],
   "source": [
    "prec_trainval = precision_score(y_trainval, y_pred_trainval, average='weighted', zero_division=0)\n",
    "rec_trainval = recall_score(y_trainval, y_pred_trainval, average='weighted')\n",
    "f1_trainval = f1_score(y_trainval, y_pred_trainval, average='weighted')\n",
    "\n",
    "prec = precision_score(y_test, y_pred, average='weighted', zero_division=0)\n",
    "rec = recall_score(y_test, y_pred, average='weighted')\n",
    "f1 = f1_score(y_test, y_pred, average='weighted')\n",
    "\n",
    "df_perf = pd.DataFrame({ 'Precision': [prec_trainval, prec], \n",
    "                        'Recall': [rec_trainval, rec],\n",
    "                        'F1': [f1_trainval, f1]\n",
    "                       },\n",
    "                      index=['train. + val.', 'test'])\n",
    "display(df_perf)\n"
   ]
  },
  {
   "cell_type": "code",
   "execution_count": 10,
   "metadata": {},
   "outputs": [
    {
     "data": {
      "text/html": [
       "<div>\n",
       "<style scoped>\n",
       "    .dataframe tbody tr th:only-of-type {\n",
       "        vertical-align: middle;\n",
       "    }\n",
       "\n",
       "    .dataframe tbody tr th {\n",
       "        vertical-align: top;\n",
       "    }\n",
       "\n",
       "    .dataframe thead th {\n",
       "        text-align: right;\n",
       "    }\n",
       "</style>\n",
       "<table border=\"1\" class=\"dataframe\">\n",
       "  <thead>\n",
       "    <tr style=\"text-align: right;\">\n",
       "      <th></th>\n",
       "      <th>Colin Powell</th>\n",
       "      <th>Donald Rumsfeld</th>\n",
       "      <th>George W Bush</th>\n",
       "      <th>Gerhard Schroeder</th>\n",
       "      <th>Tony Blair</th>\n",
       "    </tr>\n",
       "  </thead>\n",
       "  <tbody>\n",
       "    <tr>\n",
       "      <th>Colin Powell</th>\n",
       "      <td>74</td>\n",
       "      <td>6</td>\n",
       "      <td>16</td>\n",
       "      <td>0</td>\n",
       "      <td>1</td>\n",
       "    </tr>\n",
       "    <tr>\n",
       "      <th>Donald Rumsfeld</th>\n",
       "      <td>2</td>\n",
       "      <td>26</td>\n",
       "      <td>16</td>\n",
       "      <td>1</td>\n",
       "      <td>10</td>\n",
       "    </tr>\n",
       "    <tr>\n",
       "      <th>George W Bush</th>\n",
       "      <td>8</td>\n",
       "      <td>7</td>\n",
       "      <td>185</td>\n",
       "      <td>5</td>\n",
       "      <td>6</td>\n",
       "    </tr>\n",
       "    <tr>\n",
       "      <th>Gerhard Schroeder</th>\n",
       "      <td>2</td>\n",
       "      <td>1</td>\n",
       "      <td>3</td>\n",
       "      <td>36</td>\n",
       "      <td>5</td>\n",
       "    </tr>\n",
       "    <tr>\n",
       "      <th>Tony Blair</th>\n",
       "      <td>2</td>\n",
       "      <td>1</td>\n",
       "      <td>13</td>\n",
       "      <td>1</td>\n",
       "      <td>29</td>\n",
       "    </tr>\n",
       "  </tbody>\n",
       "</table>\n",
       "</div>"
      ],
      "text/plain": [
       "                   Colin Powell  Donald Rumsfeld  George W Bush  \\\n",
       "Colin Powell                 74                6             16   \n",
       "Donald Rumsfeld               2               26             16   \n",
       "George W Bush                 8                7            185   \n",
       "Gerhard Schroeder             2                1              3   \n",
       "Tony Blair                    2                1             13   \n",
       "\n",
       "                   Gerhard Schroeder  Tony Blair  \n",
       "Colin Powell                       0           1  \n",
       "Donald Rumsfeld                    1          10  \n",
       "George W Bush                      5           6  \n",
       "Gerhard Schroeder                 36           5  \n",
       "Tony Blair                         1          29  "
      ]
     },
     "metadata": {},
     "output_type": "display_data"
    },
    {
     "data": {
      "text/html": [
       "<div>\n",
       "<style scoped>\n",
       "    .dataframe tbody tr th:only-of-type {\n",
       "        vertical-align: middle;\n",
       "    }\n",
       "\n",
       "    .dataframe tbody tr th {\n",
       "        vertical-align: top;\n",
       "    }\n",
       "\n",
       "    .dataframe thead th {\n",
       "        text-align: right;\n",
       "    }\n",
       "</style>\n",
       "<table border=\"1\" class=\"dataframe\">\n",
       "  <thead>\n",
       "    <tr style=\"text-align: right;\">\n",
       "      <th></th>\n",
       "      <th>Colin Powell</th>\n",
       "      <th>Donald Rumsfeld</th>\n",
       "      <th>George W Bush</th>\n",
       "      <th>Gerhard Schroeder</th>\n",
       "      <th>Tony Blair</th>\n",
       "    </tr>\n",
       "  </thead>\n",
       "  <tbody>\n",
       "    <tr>\n",
       "      <th>Colin Powell</th>\n",
       "      <td>0.762887</td>\n",
       "      <td>0.061856</td>\n",
       "      <td>0.164948</td>\n",
       "      <td>0.000000</td>\n",
       "      <td>0.010309</td>\n",
       "    </tr>\n",
       "    <tr>\n",
       "      <th>Donald Rumsfeld</th>\n",
       "      <td>0.036364</td>\n",
       "      <td>0.472727</td>\n",
       "      <td>0.290909</td>\n",
       "      <td>0.018182</td>\n",
       "      <td>0.181818</td>\n",
       "    </tr>\n",
       "    <tr>\n",
       "      <th>George W Bush</th>\n",
       "      <td>0.037915</td>\n",
       "      <td>0.033175</td>\n",
       "      <td>0.876777</td>\n",
       "      <td>0.023697</td>\n",
       "      <td>0.028436</td>\n",
       "    </tr>\n",
       "    <tr>\n",
       "      <th>Gerhard Schroeder</th>\n",
       "      <td>0.042553</td>\n",
       "      <td>0.021277</td>\n",
       "      <td>0.063830</td>\n",
       "      <td>0.765957</td>\n",
       "      <td>0.106383</td>\n",
       "    </tr>\n",
       "    <tr>\n",
       "      <th>Tony Blair</th>\n",
       "      <td>0.043478</td>\n",
       "      <td>0.021739</td>\n",
       "      <td>0.282609</td>\n",
       "      <td>0.021739</td>\n",
       "      <td>0.630435</td>\n",
       "    </tr>\n",
       "  </tbody>\n",
       "</table>\n",
       "</div>"
      ],
      "text/plain": [
       "                   Colin Powell  Donald Rumsfeld  George W Bush  \\\n",
       "Colin Powell           0.762887         0.061856       0.164948   \n",
       "Donald Rumsfeld        0.036364         0.472727       0.290909   \n",
       "George W Bush          0.037915         0.033175       0.876777   \n",
       "Gerhard Schroeder      0.042553         0.021277       0.063830   \n",
       "Tony Blair             0.043478         0.021739       0.282609   \n",
       "\n",
       "                   Gerhard Schroeder  Tony Blair  \n",
       "Colin Powell                0.000000    0.010309  \n",
       "Donald Rumsfeld             0.018182    0.181818  \n",
       "George W Bush               0.023697    0.028436  \n",
       "Gerhard Schroeder           0.765957    0.106383  \n",
       "Tony Blair                  0.021739    0.630435  "
      ]
     },
     "metadata": {},
     "output_type": "display_data"
    },
    {
     "data": {
      "text/html": [
       "<div>\n",
       "<style scoped>\n",
       "    .dataframe tbody tr th:only-of-type {\n",
       "        vertical-align: middle;\n",
       "    }\n",
       "\n",
       "    .dataframe tbody tr th {\n",
       "        vertical-align: top;\n",
       "    }\n",
       "\n",
       "    .dataframe thead th {\n",
       "        text-align: right;\n",
       "    }\n",
       "</style>\n",
       "<table border=\"1\" class=\"dataframe\">\n",
       "  <thead>\n",
       "    <tr style=\"text-align: right;\">\n",
       "      <th></th>\n",
       "      <th>Colin Powell</th>\n",
       "      <th>Donald Rumsfeld</th>\n",
       "      <th>George W Bush</th>\n",
       "      <th>Gerhard Schroeder</th>\n",
       "      <th>Tony Blair</th>\n",
       "    </tr>\n",
       "  </thead>\n",
       "  <tbody>\n",
       "    <tr>\n",
       "      <th>Colin Powell</th>\n",
       "      <td>0.840909</td>\n",
       "      <td>0.146341</td>\n",
       "      <td>0.068670</td>\n",
       "      <td>0.000000</td>\n",
       "      <td>0.019608</td>\n",
       "    </tr>\n",
       "    <tr>\n",
       "      <th>Donald Rumsfeld</th>\n",
       "      <td>0.022727</td>\n",
       "      <td>0.634146</td>\n",
       "      <td>0.068670</td>\n",
       "      <td>0.023256</td>\n",
       "      <td>0.196078</td>\n",
       "    </tr>\n",
       "    <tr>\n",
       "      <th>George W Bush</th>\n",
       "      <td>0.090909</td>\n",
       "      <td>0.170732</td>\n",
       "      <td>0.793991</td>\n",
       "      <td>0.116279</td>\n",
       "      <td>0.117647</td>\n",
       "    </tr>\n",
       "    <tr>\n",
       "      <th>Gerhard Schroeder</th>\n",
       "      <td>0.022727</td>\n",
       "      <td>0.024390</td>\n",
       "      <td>0.012876</td>\n",
       "      <td>0.837209</td>\n",
       "      <td>0.098039</td>\n",
       "    </tr>\n",
       "    <tr>\n",
       "      <th>Tony Blair</th>\n",
       "      <td>0.022727</td>\n",
       "      <td>0.024390</td>\n",
       "      <td>0.055794</td>\n",
       "      <td>0.023256</td>\n",
       "      <td>0.568627</td>\n",
       "    </tr>\n",
       "  </tbody>\n",
       "</table>\n",
       "</div>"
      ],
      "text/plain": [
       "                   Colin Powell  Donald Rumsfeld  George W Bush  \\\n",
       "Colin Powell           0.840909         0.146341       0.068670   \n",
       "Donald Rumsfeld        0.022727         0.634146       0.068670   \n",
       "George W Bush          0.090909         0.170732       0.793991   \n",
       "Gerhard Schroeder      0.022727         0.024390       0.012876   \n",
       "Tony Blair             0.022727         0.024390       0.055794   \n",
       "\n",
       "                   Gerhard Schroeder  Tony Blair  \n",
       "Colin Powell                0.000000    0.019608  \n",
       "Donald Rumsfeld             0.023256    0.196078  \n",
       "George W Bush               0.116279    0.117647  \n",
       "Gerhard Schroeder           0.837209    0.098039  \n",
       "Tony Blair                  0.023256    0.568627  "
      ]
     },
     "metadata": {},
     "output_type": "display_data"
    }
   ],
   "source": [
    "cmat = confusion_matrix(y_test, y_pred)\n",
    "cmat_norm_true = confusion_matrix(y_test, y_pred, normalize='true')\n",
    "cmat_norm_pred = confusion_matrix(y_test, y_pred, normalize='pred')\n",
    "\n",
    "df_cmat = pd.DataFrame(cmat, columns=face_tnames, index=face_tnames)\n",
    "df_cmat_norm_true = pd.DataFrame(cmat_norm_true, columns=face_tnames, index=face_tnames)\n",
    "df_cmat_norm_pred = pd.DataFrame(cmat_norm_pred, columns=face_tnames, index=face_tnames)\n",
    "\n",
    "display(df_cmat)\n",
    "display(df_cmat_norm_true)\n",
    "display(df_cmat_norm_pred)\n"
   ]
  },
  {
   "cell_type": "code",
   "execution_count": null,
   "metadata": {},
   "outputs": [],
   "source": []
  }
 ],
 "metadata": {
  "kernelspec": {
   "display_name": "Python 3.10.6 ('.venv': venv)",
   "language": "python",
   "name": "python3"
  },
  "language_info": {
   "codemirror_mode": {
    "name": "ipython",
    "version": 3
   },
   "file_extension": ".py",
   "mimetype": "text/x-python",
   "name": "python",
   "nbconvert_exporter": "python",
   "pygments_lexer": "ipython3",
   "version": "3.10.6"
  },
  "orig_nbformat": 4,
  "vscode": {
   "interpreter": {
    "hash": "6b33ad1fe380b8859992f7bf3ea65d6d7dcba9fec85b0c0a7aef81e367611c5e"
   }
  }
 },
 "nbformat": 4,
 "nbformat_minor": 2
}
