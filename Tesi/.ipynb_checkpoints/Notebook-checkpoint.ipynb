{
 "cells": [
  {
   "cell_type": "markdown",
   "metadata": {},
   "source": [
    "# Analisi di MLP e FDA per Riconoscimento Facciale\n",
    "\n"
   ]
  },
  {
   "cell_type": "markdown",
   "metadata": {},
   "source": [
    "## Descrizione Dataset\n",
    "l dataset Labeled Faces in the Wild offre ... In questa analisi ci limiteremo ad analizzare\n",
    "solamente le facce di personaggi che compaiono almeno 50 volte all’interno del Dataset per\n",
    "non concentrarci in modo eccessivo sui problemi di overfitting che comunque affronteremo.\n",
    "### Struttura\n",
    "Il dataset che analizzeremo è composto di facce di 5 personaggi famosi: George W Bush, Colin Powell, Tony Blair, Donald Rumsfeld e Gerhard Schroeder.\n",
    "Le foto di qui presonaggi sono tutte ritagliate intorno al viso e sono solamente in bianco e nero.\n"
   ]
  },
  {
   "cell_type": "code",
   "execution_count": null,
   "metadata": {},
   "outputs": [],
   "source": [
    "import numpy as np\n",
    "from sklearn import datasets\n",
    "\n",
    "from sklearn.decomposition import PCA\n",
    "from resurces.FDA import FDA\n",
    "\n",
    "from sklearn.model_selection import GridSearchCV\n",
    "\n",
    "import matplotlib\n",
    "import matplotlib.pyplot as plt\n",
    "import pandas as pd\n",
    "from IPython.display import display\n",
    "\n",
    "from sklearn.model_selection import train_test_split\n",
    "\n",
    "from sklearn.metrics import f1_score, precision_score, recall_score, confusion_matrix\n",
    "\n",
    "from imblearn.over_sampling import RandomOverSampler"
   ]
  },
  {
   "cell_type": "markdown",
   "metadata": {},
   "source": [
    "### Questo è un secondo capitoletto della tesi\n",
    "qui scrivo qualcosa che non è ancora molto definito"
   ]
  }
 ],
 "metadata": {
  "kernelspec": {
   "display_name": "Python 3.10.6 ('.venv': venv)",
   "language": "python",
   "name": "python3"
  },
  "language_info": {
   "name": "python",
   "version": "3.10.6"
  },
  "orig_nbformat": 4,
  "vscode": {
   "interpreter": {
    "hash": "6b33ad1fe380b8859992f7bf3ea65d6d7dcba9fec85b0c0a7aef81e367611c5e"
   }
  }
 },
 "nbformat": 4,
 "nbformat_minor": 2
}
